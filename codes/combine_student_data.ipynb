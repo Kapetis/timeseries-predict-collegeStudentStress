{
 "cells": [
  {
   "cell_type": "code",
   "execution_count": 3,
   "metadata": {},
   "outputs": [],
   "source": [
    "import pandas as pd\n",
    "from glob import glob\n",
    "import numpy as np"
   ]
  },
  {
   "cell_type": "code",
   "execution_count": 5,
   "metadata": {},
   "outputs": [],
   "source": [
    "def get_merged_data(user_id):\n",
    "    \n",
    "    try:\n",
    "        stress = get_stress_data('Data/Stress/Stress_'+ user_id +'.json')\n",
    "        activity = get_actitivity_data('Data/Activity/Activity_'+ user_id + '.json') \n",
    "        sleep = get_sleep_data('Data/Sleep/Sleep_' + user_id + '.json')\n",
    "        behavior = get_behavior_data('Data/Behavior/Behavior_' + user_id + '.json')\n",
    "        exercise = get_exercise_date('Data/Exercise/Exercise_' + user_id + '.json')\n",
    "        lab = get_lab_data('Data/Lab/Lab_' + user_id + '.json')\n",
    "        social = get_social_data('Data/Social/Social_' + user_id + '.json')\n",
    "\n",
    "        joined_df = pd.merge(stress,sleep,how='inner',on='resp_time') \n",
    "        joined_df = pd.merge(joined_df,exercise,how='inner',on='resp_time') \n",
    "        joined_df = pd.merge(joined_df,activity,how='inner',on='resp_time') \n",
    "        joined_df = pd.merge(joined_df,social,how='inner',on='resp_time') \n",
    "        joined_df = pd.merge(joined_df,behavior,how='inner',on='resp_time') \n",
    "        \n",
    "        return joined_df\n",
    "    \n",
    "    except:\n",
    "        return None\n",
    "        \n",
    "\n",
    "for f_name in glob('Data/Stress/*.json'):\n",
    "    user_id = f_name.split('_')[1].split('.')[0]\n",
    "    joined_df = get_merged_data(user_id)   # 将每个user导出为一个csv\n",
    "    \n",
    "    try:\n",
    "        joined_df.to_csv('Students/'+ user_id +'_data.csv',index = False)\n",
    "    except:\n",
    "        pass\n",
    "    "
   ]
  },
  {
   "cell_type": "code",
   "execution_count": null,
   "metadata": {},
   "outputs": [],
   "source": []
  }
 ],
 "metadata": {
  "kernelspec": {
   "display_name": "Python 3",
   "language": "python",
   "name": "python3"
  },
  "language_info": {
   "codemirror_mode": {
    "name": "ipython",
    "version": 3
   },
   "file_extension": ".py",
   "mimetype": "text/x-python",
   "name": "python",
   "nbconvert_exporter": "python",
   "pygments_lexer": "ipython3",
   "version": "3.6.6"
  }
 },
 "nbformat": 4,
 "nbformat_minor": 2
}
